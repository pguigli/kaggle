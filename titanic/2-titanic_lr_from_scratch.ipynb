{
 "cells": [
  {
   "cell_type": "code",
   "execution_count": 1,
   "metadata": {},
   "outputs": [],
   "source": [
    "import pandas as pd\n",
    "import numpy as np"
   ]
  },
  {
   "cell_type": "markdown",
   "metadata": {},
   "source": [
    "# 1. Importing data"
   ]
  },
  {
   "cell_type": "code",
   "execution_count": 2,
   "metadata": {
    "scrolled": true
   },
   "outputs": [
    {
     "name": "stdout",
     "output_type": "stream",
     "text": [
      "Train: (891, 12), Test: (418, 11)\n"
     ]
    }
   ],
   "source": [
    "train = pd.read_csv(\"train.csv\")\n",
    "test = pd.read_csv(\"test.csv\")\n",
    "merged = pd.concat([train, test], sort=False)\n",
    "\n",
    "print(f\"Train: {train.shape}, Test: {test.shape}\")"
   ]
  },
  {
   "cell_type": "markdown",
   "metadata": {},
   "source": [
    "# 2. Creating new features, and dealing with missing data  \n",
    "## Using similar feature engineering as done previously (see previous file)"
   ]
  },
  {
   "cell_type": "markdown",
   "metadata": {},
   "source": [
    "**`Embarked` and `Fare`**  \n",
    "Fill missing data with most frequent values, using `mode`.\n"
   ]
  },
  {
   "cell_type": "code",
   "execution_count": 3,
   "metadata": {},
   "outputs": [],
   "source": [
    "merged.Embarked.fillna(merged.Embarked.mode().item(), inplace=True)\n",
    "merged.Fare.fillna(float(merged.Fare.mode()), inplace=True)"
   ]
  },
  {
   "cell_type": "markdown",
   "metadata": {},
   "source": [
    "**`Name`**  \n",
    "Extract passenger's Title from their Name, and replace rare titles with either `Mr`, `Mrs` or `Ms`."
   ]
  },
  {
   "cell_type": "code",
   "execution_count": 4,
   "metadata": {},
   "outputs": [],
   "source": [
    "merged['Title'] = merged.Name.apply(lambda x: x.split(',')[1].split('.')[0]).str.strip()"
   ]
  },
  {
   "cell_type": "code",
   "execution_count": 5,
   "metadata": {},
   "outputs": [],
   "source": [
    "merged.Title = np.where(merged.Title.isin(['Major',\n",
    "                                           'Sir', \n",
    "                                           'Don', \n",
    "                                           'Jonkheer', \n",
    "                                           'Capt',\n",
    "                                           'Col']), 'Mr', merged.Title)\n",
    "\n",
    "merged.Title = np.where(merged.Title.isin(['Lady', \n",
    "                                           'the Countess', \n",
    "                                           'Dona']), 'Mrs', merged.Title)\n",
    "\n",
    "merged.Title = np.where(merged.Title.isin(['Mlle', \n",
    "                                           'Mme', \n",
    "                                           'Ms']), 'Miss', merged.Title)"
   ]
  },
  {
   "cell_type": "markdown",
   "metadata": {},
   "source": [
    "**`Age`**  \n",
    "Impute missing values depending on median age for a given Title (e.g. `Master` represents young boys)"
   ]
  },
  {
   "cell_type": "code",
   "execution_count": 6,
   "metadata": {},
   "outputs": [],
   "source": [
    "for title in merged.Title.unique():\n",
    "    merged.Age = np.where(merged.Age.isnull() & merged.Title.isin([title]), \n",
    "                          merged.groupby('Title').Age.median()[title],\n",
    "                          merged.Age)"
   ]
  },
  {
   "cell_type": "markdown",
   "metadata": {},
   "source": [
    "**`SibSp` and `Parch`**  \n",
    "Combine those features into a new one (`Family_size`) and cut it into groups."
   ]
  },
  {
   "cell_type": "code",
   "execution_count": 7,
   "metadata": {},
   "outputs": [],
   "source": [
    "merged['Family_size'] = merged.SibSp + merged.Parch + 1\n",
    "merged.Family_size = pd.cut(merged.Family_size, \n",
    "                            [0, 1, 2, 4, np.inf], \n",
    "                            labels=['Solo', 'Duo', 'Small Family', 'Large Family']\n",
    "                           )"
   ]
  },
  {
   "cell_type": "markdown",
   "metadata": {},
   "source": [
    "**`Ticket` and `Cabin`**  \n",
    "Replace those features with the Ticket prefix, and the Cabin letter identifier, since they might give valuable information about passenger localization on board."
   ]
  },
  {
   "cell_type": "code",
   "execution_count": 8,
   "metadata": {},
   "outputs": [],
   "source": [
    "cabin_letters = merged.Cabin.apply(lambda x: str(x).split()[0][0])\n",
    "merged.Cabin = np.where(~merged.Cabin.isnull(), cabin_letters, 'U')"
   ]
  },
  {
   "cell_type": "code",
   "execution_count": 9,
   "metadata": {},
   "outputs": [],
   "source": [
    "merged.Ticket = merged.Ticket.apply(\n",
    "    lambda x: str(x).split()[0].strip() if not \n",
    "    str(x).isnumeric() else \n",
    "    'U')"
   ]
  },
  {
   "cell_type": "markdown",
   "metadata": {},
   "source": [
    "Remove rare ticket prefixes"
   ]
  },
  {
   "cell_type": "code",
   "execution_count": 10,
   "metadata": {},
   "outputs": [],
   "source": [
    "rare_prefixes = ['WE/P', 'W.E.P.', 'SC', 'P/PP', 'W/C', 'SC/A.3', 'AQ/3.', 'AQ/4', 'S.P.',\n",
    "                 'SO/C', 'A4.', 'S.O.P.', 'S.C./A.4.', 'STON/OQ.', 'C.A./SOTON', 'Fa',\n",
    "                 'SW/PP', 'A.', 'LP', 'S.W./PP', 'A/S', 'SC/A4', 'SCO/W']\n",
    "merged.Ticket = np.where(merged.Ticket.isin(rare_prefixes), 'U', merged.Ticket)"
   ]
  },
  {
   "cell_type": "markdown",
   "metadata": {},
   "source": [
    "# 3. Cleaning up and categorising data"
   ]
  },
  {
   "cell_type": "markdown",
   "metadata": {},
   "source": [
    "**Categorizing `Sex`, `Age` and `Fare`**"
   ]
  },
  {
   "cell_type": "code",
   "execution_count": 11,
   "metadata": {},
   "outputs": [],
   "source": [
    "merged['Is_female'] = np.where(merged.Sex == 'female', 1, 0)"
   ]
  },
  {
   "cell_type": "code",
   "execution_count": 12,
   "metadata": {},
   "outputs": [],
   "source": [
    "age_bins = [0, 14, 23, 33, 60, np.inf]\n",
    "merged['Age_group'] = pd.cut(merged.Age, age_bins)"
   ]
  },
  {
   "cell_type": "code",
   "execution_count": 13,
   "metadata": {},
   "outputs": [],
   "source": [
    "merged['Fare_group'] = pd.qcut(merged.Fare, 5)"
   ]
  },
  {
   "cell_type": "code",
   "execution_count": 14,
   "metadata": {},
   "outputs": [],
   "source": [
    "for i in ['Fare_group', 'Age_group', 'Family_size']:\n",
    "    merged[i] = merged[i].astype('category').cat.codes + 1"
   ]
  },
  {
   "cell_type": "markdown",
   "metadata": {},
   "source": [
    "**Generating dummies for categories containing unordered labels**"
   ]
  },
  {
   "cell_type": "code",
   "execution_count": 15,
   "metadata": {},
   "outputs": [],
   "source": [
    "to_dumm = ['Embarked', 'Cabin', 'Ticket', 'Title']\n",
    "for i in to_dumm:\n",
    "    merged = pd.concat([merged, pd.get_dummies(merged[i], prefix=i)], axis=1)"
   ]
  },
  {
   "cell_type": "markdown",
   "metadata": {},
   "source": [
    "**Dropping columns that are not useful anymore**"
   ]
  },
  {
   "cell_type": "code",
   "execution_count": 16,
   "metadata": {},
   "outputs": [],
   "source": [
    "to_drop = ['Name', 'SibSp', 'Parch', 'Sex', 'Cabin', 'Embarked', 'Ticket', 'Fare', 'Age', 'Title', 'PassengerId']\n",
    "merged.drop(to_drop, axis = 1, inplace = True)"
   ]
  },
  {
   "cell_type": "code",
   "execution_count": 17,
   "metadata": {},
   "outputs": [
    {
     "data": {
      "text/html": [
       "<div>\n",
       "<style scoped>\n",
       "    .dataframe tbody tr th:only-of-type {\n",
       "        vertical-align: middle;\n",
       "    }\n",
       "\n",
       "    .dataframe tbody tr th {\n",
       "        vertical-align: top;\n",
       "    }\n",
       "\n",
       "    .dataframe thead th {\n",
       "        text-align: right;\n",
       "    }\n",
       "</style>\n",
       "<table border=\"1\" class=\"dataframe\">\n",
       "  <thead>\n",
       "    <tr style=\"text-align: right;\">\n",
       "      <th></th>\n",
       "      <th>Survived</th>\n",
       "      <th>Pclass</th>\n",
       "      <th>Family_size</th>\n",
       "      <th>Is_female</th>\n",
       "      <th>Age_group</th>\n",
       "      <th>Fare_group</th>\n",
       "      <th>Embarked_C</th>\n",
       "      <th>Embarked_Q</th>\n",
       "      <th>Embarked_S</th>\n",
       "      <th>Cabin_A</th>\n",
       "      <th>...</th>\n",
       "      <th>Ticket_STON/O</th>\n",
       "      <th>Ticket_STON/O2.</th>\n",
       "      <th>Ticket_U</th>\n",
       "      <th>Ticket_W./C.</th>\n",
       "      <th>Title_Dr</th>\n",
       "      <th>Title_Master</th>\n",
       "      <th>Title_Miss</th>\n",
       "      <th>Title_Mr</th>\n",
       "      <th>Title_Mrs</th>\n",
       "      <th>Title_Rev</th>\n",
       "    </tr>\n",
       "  </thead>\n",
       "  <tbody>\n",
       "    <tr>\n",
       "      <th>0</th>\n",
       "      <td>0.0</td>\n",
       "      <td>3</td>\n",
       "      <td>2</td>\n",
       "      <td>0</td>\n",
       "      <td>2</td>\n",
       "      <td>1</td>\n",
       "      <td>0</td>\n",
       "      <td>0</td>\n",
       "      <td>1</td>\n",
       "      <td>0</td>\n",
       "      <td>...</td>\n",
       "      <td>0</td>\n",
       "      <td>0</td>\n",
       "      <td>0</td>\n",
       "      <td>0</td>\n",
       "      <td>0</td>\n",
       "      <td>0</td>\n",
       "      <td>0</td>\n",
       "      <td>1</td>\n",
       "      <td>0</td>\n",
       "      <td>0</td>\n",
       "    </tr>\n",
       "    <tr>\n",
       "      <th>1</th>\n",
       "      <td>1.0</td>\n",
       "      <td>1</td>\n",
       "      <td>2</td>\n",
       "      <td>1</td>\n",
       "      <td>4</td>\n",
       "      <td>5</td>\n",
       "      <td>1</td>\n",
       "      <td>0</td>\n",
       "      <td>0</td>\n",
       "      <td>0</td>\n",
       "      <td>...</td>\n",
       "      <td>0</td>\n",
       "      <td>0</td>\n",
       "      <td>0</td>\n",
       "      <td>0</td>\n",
       "      <td>0</td>\n",
       "      <td>0</td>\n",
       "      <td>0</td>\n",
       "      <td>0</td>\n",
       "      <td>1</td>\n",
       "      <td>0</td>\n",
       "    </tr>\n",
       "    <tr>\n",
       "      <th>2</th>\n",
       "      <td>1.0</td>\n",
       "      <td>3</td>\n",
       "      <td>1</td>\n",
       "      <td>1</td>\n",
       "      <td>3</td>\n",
       "      <td>2</td>\n",
       "      <td>0</td>\n",
       "      <td>0</td>\n",
       "      <td>1</td>\n",
       "      <td>0</td>\n",
       "      <td>...</td>\n",
       "      <td>0</td>\n",
       "      <td>1</td>\n",
       "      <td>0</td>\n",
       "      <td>0</td>\n",
       "      <td>0</td>\n",
       "      <td>0</td>\n",
       "      <td>1</td>\n",
       "      <td>0</td>\n",
       "      <td>0</td>\n",
       "      <td>0</td>\n",
       "    </tr>\n",
       "    <tr>\n",
       "      <th>3</th>\n",
       "      <td>1.0</td>\n",
       "      <td>1</td>\n",
       "      <td>2</td>\n",
       "      <td>1</td>\n",
       "      <td>4</td>\n",
       "      <td>5</td>\n",
       "      <td>0</td>\n",
       "      <td>0</td>\n",
       "      <td>1</td>\n",
       "      <td>0</td>\n",
       "      <td>...</td>\n",
       "      <td>0</td>\n",
       "      <td>0</td>\n",
       "      <td>1</td>\n",
       "      <td>0</td>\n",
       "      <td>0</td>\n",
       "      <td>0</td>\n",
       "      <td>0</td>\n",
       "      <td>0</td>\n",
       "      <td>1</td>\n",
       "      <td>0</td>\n",
       "    </tr>\n",
       "    <tr>\n",
       "      <th>4</th>\n",
       "      <td>0.0</td>\n",
       "      <td>3</td>\n",
       "      <td>1</td>\n",
       "      <td>0</td>\n",
       "      <td>4</td>\n",
       "      <td>2</td>\n",
       "      <td>0</td>\n",
       "      <td>0</td>\n",
       "      <td>1</td>\n",
       "      <td>0</td>\n",
       "      <td>...</td>\n",
       "      <td>0</td>\n",
       "      <td>0</td>\n",
       "      <td>1</td>\n",
       "      <td>0</td>\n",
       "      <td>0</td>\n",
       "      <td>0</td>\n",
       "      <td>0</td>\n",
       "      <td>1</td>\n",
       "      <td>0</td>\n",
       "      <td>0</td>\n",
       "    </tr>\n",
       "  </tbody>\n",
       "</table>\n",
       "<p>5 rows × 52 columns</p>\n",
       "</div>"
      ],
      "text/plain": [
       "   Survived  Pclass  Family_size  Is_female  Age_group  Fare_group  \\\n",
       "0       0.0       3            2          0          2           1   \n",
       "1       1.0       1            2          1          4           5   \n",
       "2       1.0       3            1          1          3           2   \n",
       "3       1.0       1            2          1          4           5   \n",
       "4       0.0       3            1          0          4           2   \n",
       "\n",
       "   Embarked_C  Embarked_Q  Embarked_S  Cabin_A  ...  Ticket_STON/O  \\\n",
       "0           0           0           1        0  ...              0   \n",
       "1           1           0           0        0  ...              0   \n",
       "2           0           0           1        0  ...              0   \n",
       "3           0           0           1        0  ...              0   \n",
       "4           0           0           1        0  ...              0   \n",
       "\n",
       "   Ticket_STON/O2.  Ticket_U  Ticket_W./C.  Title_Dr  Title_Master  \\\n",
       "0                0         0             0         0             0   \n",
       "1                0         0             0         0             0   \n",
       "2                1         0             0         0             0   \n",
       "3                0         1             0         0             0   \n",
       "4                0         1             0         0             0   \n",
       "\n",
       "   Title_Miss  Title_Mr  Title_Mrs  Title_Rev  \n",
       "0           0         1          0          0  \n",
       "1           0         0          1          0  \n",
       "2           1         0          0          0  \n",
       "3           0         0          1          0  \n",
       "4           0         1          0          0  \n",
       "\n",
       "[5 rows x 52 columns]"
      ]
     },
     "execution_count": 17,
     "metadata": {},
     "output_type": "execute_result"
    }
   ],
   "source": [
    "merged.head()"
   ]
  },
  {
   "cell_type": "markdown",
   "metadata": {},
   "source": [
    "# 4. Modelling"
   ]
  },
  {
   "cell_type": "markdown",
   "metadata": {},
   "source": [
    "**Creating variables, splitting training set into train + validation sets**"
   ]
  },
  {
   "cell_type": "code",
   "execution_count": 18,
   "metadata": {},
   "outputs": [],
   "source": [
    "from sklearn.model_selection import train_test_split"
   ]
  },
  {
   "cell_type": "code",
   "execution_count": 19,
   "metadata": {},
   "outputs": [],
   "source": [
    "# Silencing chained assignment warning here\n",
    "pd.options.mode.chained_assignment = None\n",
    "\n",
    "train_df = merged[~merged.Survived.isnull()]\n",
    "X_test = merged[merged.Survived.isnull()]\n",
    "X_test.drop('Survived', inplace=True, axis=1)"
   ]
  },
  {
   "cell_type": "code",
   "execution_count": 20,
   "metadata": {},
   "outputs": [],
   "source": [
    "X = train_df.drop('Survived', axis=1)\n",
    "y = train_df.Survived"
   ]
  },
  {
   "cell_type": "code",
   "execution_count": 37,
   "metadata": {},
   "outputs": [],
   "source": [
    "(X_train, X_val, \n",
    " y_train, y_val) = train_test_split(X, y, test_size=0.2)"
   ]
  },
  {
   "cell_type": "code",
   "execution_count": 38,
   "metadata": {
    "scrolled": true
   },
   "outputs": [
    {
     "name": "stdout",
     "output_type": "stream",
     "text": [
      "(712, 51) (712,)\n",
      "(179, 51) (179,)\n",
      "(418, 51)\n"
     ]
    }
   ],
   "source": [
    "print(X_train.shape, y_train.shape)\n",
    "print(X_val.shape, y_val.shape)\n",
    "print(X_test.shape)"
   ]
  },
  {
   "cell_type": "markdown",
   "metadata": {},
   "source": [
    "## a/ Logistic regression from scratch  \n",
    "(without regularisation or polynomial features)"
   ]
  },
  {
   "cell_type": "markdown",
   "metadata": {},
   "source": [
    "**Converting Pandas DataFrames into vector/matrix form**"
   ]
  },
  {
   "cell_type": "code",
   "execution_count": 39,
   "metadata": {},
   "outputs": [],
   "source": [
    "X_train = X_train.values\n",
    "y_train = y_train.values\n",
    "X_val = X_val.values\n",
    "y_val = y_val.values"
   ]
  },
  {
   "cell_type": "code",
   "execution_count": 40,
   "metadata": {},
   "outputs": [
    {
     "data": {
      "text/plain": [
       "(712, 1)"
      ]
     },
     "execution_count": 40,
     "metadata": {},
     "output_type": "execute_result"
    }
   ],
   "source": [
    "y_train = y_train.reshape(-1,1)\n",
    "y_val = y_val.reshape(-1,1)\n",
    "y_train.shape"
   ]
  },
  {
   "cell_type": "markdown",
   "metadata": {},
   "source": [
    "**Adding intercepts and initialising theta**  \n",
    "We don't scale or normalise our features, since they all fall in the same range (~0-5), so gradient descent won't have any issue."
   ]
  },
  {
   "cell_type": "code",
   "execution_count": 41,
   "metadata": {},
   "outputs": [
    {
     "name": "stdout",
     "output_type": "stream",
     "text": [
      "(712, 52) (712, 1)\n"
     ]
    }
   ],
   "source": [
    "X_train = np.c_[np.ones((X_train.shape[0])), X_train]\n",
    "X_val = np.c_[np.ones((X_val.shape[0])), X_val]\n",
    "print(X_train.shape, y_train.shape)"
   ]
  },
  {
   "cell_type": "code",
   "execution_count": 42,
   "metadata": {},
   "outputs": [
    {
     "data": {
      "text/plain": [
       "(52, 1)"
      ]
     },
     "execution_count": 42,
     "metadata": {},
     "output_type": "execute_result"
    }
   ],
   "source": [
    "theta = np.zeros((X_train.shape[1], 1))\n",
    "theta.shape"
   ]
  },
  {
   "cell_type": "code",
   "execution_count": 43,
   "metadata": {},
   "outputs": [],
   "source": [
    "def sigmoid(z):\n",
    "    return 1/(1+np.exp(-z))"
   ]
  },
  {
   "cell_type": "markdown",
   "metadata": {},
   "source": [
    "**Working out the cost-function and the gradient descent algorithm**"
   ]
  },
  {
   "cell_type": "code",
   "execution_count": 44,
   "metadata": {},
   "outputs": [],
   "source": [
    "def compute_cost(X, y, theta):\n",
    "    m = len(y)\n",
    "    hypo = sigmoid(X@theta) # 712x1\n",
    "    func = y.T @ np.log(hypo) + (1-y.T) @ np.log(1-hypo)\n",
    "    cost = -1/m * func\n",
    "    return cost.item()"
   ]
  },
  {
   "cell_type": "code",
   "execution_count": 45,
   "metadata": {},
   "outputs": [],
   "source": [
    "def grad_descent(X, y, theta, alpha, n_iter):\n",
    "    m = len(y)\n",
    "    J_history = []\n",
    "    for i in range(1, n_iter+1):\n",
    "        hypo = sigmoid(X @ theta)\n",
    "        grad = X.T @ (hypo-y)\n",
    "        theta = theta - alpha/m * grad\n",
    "        J_history.append(compute_cost(X, y, theta))\n",
    "    return theta, J_history"
   ]
  },
  {
   "cell_type": "code",
   "execution_count": 46,
   "metadata": {},
   "outputs": [
    {
     "data": {
      "text/plain": [
       "0.6931471805599452"
      ]
     },
     "execution_count": 46,
     "metadata": {},
     "output_type": "execute_result"
    }
   ],
   "source": [
    "compute_cost(X_train, y_train, theta)"
   ]
  },
  {
   "cell_type": "code",
   "execution_count": 47,
   "metadata": {},
   "outputs": [],
   "source": [
    "theta_opt, J_hist = grad_descent(X_train, y_train, theta, alpha=0.35, n_iter=15000)"
   ]
  },
  {
   "cell_type": "markdown",
   "metadata": {},
   "source": [
    "**Plotting cost vs. number of iterations**"
   ]
  },
  {
   "cell_type": "code",
   "execution_count": 48,
   "metadata": {},
   "outputs": [],
   "source": [
    "import matplotlib.pyplot as plt\n",
    "%matplotlib inline"
   ]
  },
  {
   "cell_type": "code",
   "execution_count": 49,
   "metadata": {},
   "outputs": [
    {
     "name": "stdout",
     "output_type": "stream",
     "text": [
      "0.3827120944713656\n"
     ]
    },
    {
     "data": {
      "image/png": "[encoded data removed]",
      "text/plain": [
       "<Figure size 432x288 with 1 Axes>"
      ]
     },
     "metadata": {
      "needs_background": "light"
     },
     "output_type": "display_data"
    }
   ],
   "source": [
    "print(J_hist[-1])\n",
    "plt.plot(J_hist);"
   ]
  },
  {
   "cell_type": "markdown",
   "metadata": {},
   "source": [
    "**Predicting and scoring**"
   ]
  },
  {
   "cell_type": "code",
   "execution_count": 50,
   "metadata": {},
   "outputs": [],
   "source": [
    "def predict(X, theta):\n",
    "    pred = (sigmoid(X@theta) >= 0.5)\n",
    "    return pred.astype(int)"
   ]
  },
  {
   "cell_type": "code",
   "execution_count": 51,
   "metadata": {},
   "outputs": [],
   "source": [
    "def score(pred, truth):\n",
    "    return (pred == truth).mean()"
   ]
  },
  {
   "cell_type": "code",
   "execution_count": 52,
   "metadata": {},
   "outputs": [
    {
     "name": "stdout",
     "output_type": "stream",
     "text": [
      "Train accuracy = 0.8497191011235955\n",
      "Val accuracy = 0.8268156424581006\n"
     ]
    }
   ],
   "source": [
    "print(f\"Train accuracy = {score(predict(X_train, theta_opt), y_train)}\")\n",
    "\n",
    "predictions = predict(X_val, theta_opt)\n",
    "print(f\"Val accuracy = {score(predictions, y_val)}\")"
   ]
  },
  {
   "cell_type": "markdown",
   "metadata": {},
   "source": [
    "**Plotting learning curve to choose the learning rate alpha**"
   ]
  },
  {
   "cell_type": "code",
   "execution_count": 53,
   "metadata": {},
   "outputs": [],
   "source": [
    "def learning_curve(alpha_min, alpha_max, step):\n",
    "    train_errors = []\n",
    "    val_errors = []\n",
    "    alpha_range = np.arange(alpha_min, alpha_max, step)\n",
    "    for alpha in alpha_range:\n",
    "        theta_opt, _ = grad_descent(X_train, y_train, theta, alpha=alpha, n_iter=10000)\n",
    "        train_errors.append(1-score(\n",
    "            predict(X_train, theta_opt), \n",
    "            y_train\n",
    "            ))\n",
    "        val_errors.append(1-score(\n",
    "            predict(X_val, theta_opt), \n",
    "            y_val\n",
    "            ))\n",
    "    fig = plt.figure(figsize=(10,6))\n",
    "    plt.plot(alpha_range, train_errors, label='Train error')\n",
    "    plt.plot(alpha_range, val_errors, label='Val error')\n",
    "    plt.legend()"
   ]
  },
  {
   "cell_type": "code",
   "execution_count": 54,
   "metadata": {},
   "outputs": [
    {
     "data": {
      "image/png": "[encoded data removed]",
      "text/plain": [
       "<Figure size 720x432 with 1 Axes>"
      ]
     },
     "metadata": {
      "needs_background": "light"
     },
     "output_type": "display_data"
    }
   ],
   "source": [
    "learning_curve(0.05, 0.6, 0.01)"
   ]
  },
  {
   "cell_type": "markdown",
   "metadata": {},
   "source": [
    "**Formatting `X, y` (the whole training set) and `X_test` (the test set).**  "
   ]
  },
  {
   "cell_type": "code",
   "execution_count": 55,
   "metadata": {},
   "outputs": [],
   "source": [
    "X = X.values\n",
    "X = np.c_[np.ones((X.shape[0])), X]\n",
    "y = y.values\n",
    "y = y.reshape(-1,1)"
   ]
  },
  {
   "cell_type": "code",
   "execution_count": 56,
   "metadata": {},
   "outputs": [],
   "source": [
    "theta_final, _ = grad_descent(X, y, theta, alpha=0.35, n_iter=25000)"
   ]
  },
  {
   "cell_type": "code",
   "execution_count": 57,
   "metadata": {},
   "outputs": [],
   "source": [
    "X_test = X_test.values\n",
    "X_test = np.c_[np.ones((X_test.shape[0])), X_test]"
   ]
  },
  {
   "cell_type": "code",
   "execution_count": 58,
   "metadata": {},
   "outputs": [
    {
     "data": {
      "text/plain": [
       "(418, 1)"
      ]
     },
     "execution_count": 58,
     "metadata": {},
     "output_type": "execute_result"
    }
   ],
   "source": [
    "predict(X_test, theta_final).shape"
   ]
  },
  {
   "cell_type": "markdown",
   "metadata": {},
   "source": [
    "**Generating predictions**"
   ]
  },
  {
   "cell_type": "code",
   "execution_count": 59,
   "metadata": {},
   "outputs": [],
   "source": [
    "def write_pred():\n",
    "    name = input(\"Filename? > \")\n",
    "    raw = pd.read_csv(\"test.csv\")\n",
    "    predictions = pd.concat([\n",
    "        raw[\"PassengerId\"].astype('int'), \n",
    "        pd.Series(predict(X_test, theta_final).ravel(), name=\"Survived\")\n",
    "        ], axis=1)\n",
    "    predictions.to_csv(f\"{name}.csv\", index=False)"
   ]
  },
  {
   "cell_type": "code",
   "execution_count": 60,
   "metadata": {},
   "outputs": [
    {
     "name": "stdout",
     "output_type": "stream",
     "text": [
      "Filename? > logreg_pred\n"
     ]
    }
   ],
   "source": [
    "write_pred()"
   ]
  },
  {
   "cell_type": "markdown",
   "metadata": {},
   "source": [
    "***Scores `0.79904` on Kaggle***"
   ]
  },
  {
   "cell_type": "markdown",
   "metadata": {},
   "source": [
    "## b/ Logistic Regression with sk-learn"
   ]
  },
  {
   "cell_type": "code",
   "execution_count": 61,
   "metadata": {},
   "outputs": [],
   "source": [
    "from sklearn.linear_model import LogisticRegression"
   ]
  },
  {
   "cell_type": "code",
   "execution_count": 92,
   "metadata": {},
   "outputs": [
    {
     "data": {
      "text/plain": [
       "LogisticRegression(C=1, class_weight=None, dual=False, fit_intercept=False,\n",
       "          intercept_scaling=1, max_iter=1000, multi_class='warn',\n",
       "          n_jobs=None, penalty='l2', random_state=None, solver='liblinear',\n",
       "          tol=0.0001, verbose=0, warm_start=False)"
      ]
     },
     "execution_count": 92,
     "metadata": {},
     "output_type": "execute_result"
    }
   ],
   "source": [
    "lr = LogisticRegression(fit_intercept=False, solver='liblinear', C=1, max_iter=1000)\n",
    "lr.fit(X_train, y_train.ravel()) # need to flatten y which was a column vector"
   ]
  },
  {
   "cell_type": "code",
   "execution_count": 93,
   "metadata": {},
   "outputs": [
    {
     "name": "stdout",
     "output_type": "stream",
     "text": [
      "Train score: 0.8398876404494382\n",
      "Val score: 0.8212290502793296\n"
     ]
    }
   ],
   "source": [
    "def print_score(m):\n",
    "    print(f\"Train score: {m.score(X_train, y_train)}\")\n",
    "    print(f\"Val score: {m.score(X_val, y_val)}\")\n",
    "\n",
    "print_score(lr)"
   ]
  },
  {
   "cell_type": "markdown",
   "metadata": {},
   "source": [
    "**Grid search**"
   ]
  },
  {
   "cell_type": "code",
   "execution_count": 94,
   "metadata": {},
   "outputs": [],
   "source": [
    "from sklearn.model_selection import GridSearchCV\n",
    "def do_gs(maxiter):    \n",
    "    lr = LogisticRegression(fit_intercept=False, max_iter=maxiter) #intercepts already added\n",
    "    param_grid = { \n",
    "        \"C\": [0.01, 0.1, 1, 10, 100, 1000, 10000],\n",
    "        \"solver\": ['liblinear', 'lbfgs'],\n",
    "        \"class_weight\": [None, {0:3, 1:1}]\n",
    "        }\n",
    "    gs = GridSearchCV(estimator=lr,\n",
    "                      param_grid=param_grid, \n",
    "                      scoring='f1',\n",
    "                      cv=4,\n",
    "                      n_jobs=-1,\n",
    "                      iid=False\n",
    "                     )\n",
    "    gs = gs.fit(X, y.ravel())\n",
    "    print(gs.best_score_)\n",
    "    print(gs.best_params_)\n",
    "    print(gs.best_estimator_)\n",
    "    print_score(gs.best_estimator_)"
   ]
  },
  {
   "cell_type": "code",
   "execution_count": 95,
   "metadata": {},
   "outputs": [
    {
     "name": "stdout",
     "output_type": "stream",
     "text": [
      "0.7660134129183578\n",
      "{'C': 1, 'class_weight': None, 'solver': 'liblinear'}\n",
      "LogisticRegression(C=1, class_weight=None, dual=False, fit_intercept=False,\n",
      "          intercept_scaling=1, max_iter=5000, multi_class='warn',\n",
      "          n_jobs=None, penalty='l2', random_state=None, solver='liblinear',\n",
      "          tol=0.0001, verbose=0, warm_start=False)\n",
      "Train score: 0.8356741573033708\n",
      "Val score: 0.8324022346368715\n"
     ]
    }
   ],
   "source": [
    "do_gs(5000)"
   ]
  },
  {
   "cell_type": "markdown",
   "metadata": {},
   "source": [
    "**Generating predictions**"
   ]
  },
  {
   "cell_type": "code",
   "execution_count": 96,
   "metadata": {},
   "outputs": [
    {
     "data": {
      "text/plain": [
       "LogisticRegression(C=1, class_weight=None, dual=False, fit_intercept=False,\n",
       "          intercept_scaling=1, max_iter=50000, multi_class='warn',\n",
       "          n_jobs=None, penalty='l2', random_state=None, solver='liblinear',\n",
       "          tol=0.0001, verbose=0, warm_start=False)"
      ]
     },
     "execution_count": 96,
     "metadata": {},
     "output_type": "execute_result"
    }
   ],
   "source": [
    "best_lr = LogisticRegression(\n",
    "    **{'C': 1, 'class_weight': None, 'solver': 'liblinear'},\n",
    "    max_iter=50000,\n",
    "    fit_intercept=False\n",
    "    )\n",
    "best_lr.fit(X, y.ravel())"
   ]
  },
  {
   "cell_type": "code",
   "execution_count": 103,
   "metadata": {},
   "outputs": [],
   "source": [
    "def write_pred():\n",
    "    name = input(\"Filename? > \")\n",
    "    raw = pd.read_csv(\"test.csv\")\n",
    "    predictions = pd.concat([\n",
    "        raw[\"PassengerId\"].astype('int'), \n",
    "        pd.Series(best_lr.predict(X_test).astype('int'), name=\"Survived\")\n",
    "        ], axis=1)\n",
    "    predictions.to_csv(f\"{name}.csv\", index=False)"
   ]
  },
  {
   "cell_type": "code",
   "execution_count": 104,
   "metadata": {},
   "outputs": [
    {
     "name": "stdout",
     "output_type": "stream",
     "text": [
      "Filename? > log_reg_sklearn\n"
     ]
    }
   ],
   "source": [
    "write_pred()"
   ]
  },
  {
   "cell_type": "markdown",
   "metadata": {},
   "source": [
    "***Scores `0.79425` on Kaggle*** ~ slightly less but very similar to previous score"
   ]
  },
  {
   "cell_type": "code",
   "execution_count": null,
   "metadata": {},
   "outputs": [],
   "source": []
  }
 ],
 "metadata": {
  "kernelspec": {
   "display_name": "Python 3",
   "language": "python",
   "name": "python3"
  },
  "language_info": {
   "codemirror_mode": {
    "name": "ipython",
    "version": 3
   },
   "file_extension": ".py",
   "mimetype": "text/x-python",
   "name": "python",
   "nbconvert_exporter": "python",
   "pygments_lexer": "ipython3",
   "version": "3.7.2"
  }
 },
 "nbformat": 4,
 "nbformat_minor": 2
}
